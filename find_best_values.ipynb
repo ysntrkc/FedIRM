{
 "cells": [
  {
   "cell_type": "code",
   "execution_count": null,
   "metadata": {},
   "outputs": [],
   "source": [
    "import os\n",
    "import pandas as pd"
   ]
  },
  {
   "cell_type": "code",
   "execution_count": null,
   "metadata": {},
   "outputs": [],
   "source": [
    "test_dir = \"./test_csv\""
   ]
  },
  {
   "cell_type": "code",
   "execution_count": null,
   "metadata": {},
   "outputs": [],
   "source": [
    "csv_paths = sorted(os.listdir(test_dir))\n",
    "csv_paths"
   ]
  },
  {
   "cell_type": "code",
   "execution_count": null,
   "metadata": {},
   "outputs": [],
   "source": [
    "# loop through all csv files and find the best threshold according to the f1 for each csv file\n",
    "for csv_path in csv_paths:\n",
    "\tif csv_path.endswith(\".csv\"):\n",
    "\t\tcsv_path = os.path.join(test_dir, csv_path)\n",
    "\t\tprint(csv_path)\n",
    "\t\tdf = pd.read_csv(csv_path)\n",
    "\t\tdf = df.sort_values(by=\"f1\", ascending=False)\n",
    "\t\tprint(df.head(1))\n",
    "\t\tprint(100 * \"=\")"
   ]
  }
 ],
 "metadata": {
  "kernelspec": {
   "display_name": "fedIRM",
   "language": "python",
   "name": "python3"
  },
  "language_info": {
   "codemirror_mode": {
    "name": "ipython",
    "version": 3
   },
   "file_extension": ".py",
   "mimetype": "text/x-python",
   "name": "python",
   "nbconvert_exporter": "python",
   "pygments_lexer": "ipython3",
   "version": "3.10.9"
  },
  "orig_nbformat": 4
 },
 "nbformat": 4,
 "nbformat_minor": 2
}
